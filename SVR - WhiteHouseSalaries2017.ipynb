{
 "cells": [
  {
   "cell_type": "markdown",
   "id": "f4231344",
   "metadata": {},
   "source": [
    "# SVR Machine Learning with Python"
   ]
  },
  {
   "cell_type": "code",
   "execution_count": 37,
   "id": "1fb4c2c5",
   "metadata": {},
   "outputs": [],
   "source": [
    "import pandas as pd\n",
    "import numpy as np\n",
    "import matplotlib.pyplot as plt"
   ]
  },
  {
   "cell_type": "markdown",
   "id": "1a1e3ee7",
   "metadata": {},
   "source": [
    "Importing dataset"
   ]
  },
  {
   "cell_type": "code",
   "execution_count": 91,
   "id": "b33dafc3",
   "metadata": {},
   "outputs": [],
   "source": [
    "df = pd.read_csv('../white_house_2017_salaries.csv')"
   ]
  },
  {
   "cell_type": "code",
   "execution_count": 92,
   "id": "a7507cc0",
   "metadata": {},
   "outputs": [
    {
     "data": {
      "text/plain": [
       "(377, 5)"
      ]
     },
     "execution_count": 92,
     "metadata": {},
     "output_type": "execute_result"
    }
   ],
   "source": [
    "# dimensions of the dataset\n",
    "df.shape"
   ]
  },
  {
   "cell_type": "code",
   "execution_count": 93,
   "id": "09c6d3c0",
   "metadata": {},
   "outputs": [
    {
     "data": {
      "text/plain": [
       "Index(['NAME', 'STATUS', 'SALARY', 'PAY BASIS', 'POSITION TITLE'], dtype='object')"
      ]
     },
     "execution_count": 93,
     "metadata": {},
     "output_type": "execute_result"
    }
   ],
   "source": [
    "# showing the columns\n",
    "# names are upper and some got space\n",
    "df.columns"
   ]
  },
  {
   "cell_type": "markdown",
   "id": "39a93549",
   "metadata": {},
   "source": [
    "Trying to remove space between the words 'PAY BASIS' and 'POSITION TITLE'"
   ]
  },
  {
   "cell_type": "code",
   "execution_count": 94,
   "id": "3c148d15",
   "metadata": {},
   "outputs": [
    {
     "data": {
      "text/plain": [
       "'PAY\\xa0BASIS'"
      ]
     },
     "execution_count": 94,
     "metadata": {},
     "output_type": "execute_result"
    }
   ],
   "source": [
    "# Let us take a look how Python read this\n",
    "df.columns[3] # index of 'PAY BASIS'"
   ]
  },
  {
   "cell_type": "code",
   "execution_count": 95,
   "id": "64983a87",
   "metadata": {},
   "outputs": [
    {
     "data": {
      "text/plain": [
       "'POSITION\\xa0TITLE'"
      ]
     },
     "execution_count": 95,
     "metadata": {},
     "output_type": "execute_result"
    }
   ],
   "source": [
    "df.columns[4] # index of 'POSITION TITLE'"
   ]
  },
  {
   "cell_type": "code",
   "execution_count": 96,
   "id": "d2b0a5f1",
   "metadata": {},
   "outputs": [],
   "source": [
    "# now we shoul write the same name with the rename function\n",
    "df = df.rename(columns={'PAY\\xa0BASIS': 'PAY_BASIS'})\n",
    "df = df.rename(columns={'POSITION\\xa0TITLE': 'POSITION_TITLE'})"
   ]
  },
  {
   "cell_type": "code",
   "execution_count": 97,
   "id": "ebf801c9",
   "metadata": {},
   "outputs": [
    {
     "data": {
      "text/plain": [
       "Index(['NAME', 'STATUS', 'SALARY', 'PAY_BASIS', 'POSITION_TITLE'], dtype='object')"
      ]
     },
     "execution_count": 97,
     "metadata": {},
     "output_type": "execute_result"
    }
   ],
   "source": [
    "df.columns"
   ]
  },
  {
   "cell_type": "code",
   "execution_count": 98,
   "id": "976cda07",
   "metadata": {},
   "outputs": [
    {
     "data": {
      "text/plain": [
       "NAME              object\n",
       "STATUS            object\n",
       "SALARY            object\n",
       "PAY_BASIS         object\n",
       "POSITION_TITLE    object\n",
       "dtype: object"
      ]
     },
     "execution_count": 98,
     "metadata": {},
     "output_type": "execute_result"
    }
   ],
   "source": [
    "# all the type are object, we need to normalize\n",
    "df.dtypes"
   ]
  },
  {
   "cell_type": "code",
   "execution_count": 99,
   "id": "36ec1203",
   "metadata": {},
   "outputs": [
    {
     "data": {
      "text/html": [
       "<div>\n",
       "<style scoped>\n",
       "    .dataframe tbody tr th:only-of-type {\n",
       "        vertical-align: middle;\n",
       "    }\n",
       "\n",
       "    .dataframe tbody tr th {\n",
       "        vertical-align: top;\n",
       "    }\n",
       "\n",
       "    .dataframe thead th {\n",
       "        text-align: right;\n",
       "    }\n",
       "</style>\n",
       "<table border=\"1\" class=\"dataframe\">\n",
       "  <thead>\n",
       "    <tr style=\"text-align: right;\">\n",
       "      <th></th>\n",
       "      <th>NAME</th>\n",
       "      <th>STATUS</th>\n",
       "      <th>SALARY</th>\n",
       "      <th>PAY_BASIS</th>\n",
       "      <th>POSITION_TITLE</th>\n",
       "    </tr>\n",
       "  </thead>\n",
       "  <tbody>\n",
       "    <tr>\n",
       "      <th>0</th>\n",
       "      <td>Alexander, Monica K.</td>\n",
       "      <td>Employee</td>\n",
       "      <td>$56,000.00</td>\n",
       "      <td>Per Annum</td>\n",
       "      <td>EXECUTIVE ASSISTANT</td>\n",
       "    </tr>\n",
       "    <tr>\n",
       "      <th>1</th>\n",
       "      <td>Ambrosini, Michael J.</td>\n",
       "      <td>Employee</td>\n",
       "      <td>$95,000.00</td>\n",
       "      <td>Per Annum</td>\n",
       "      <td>SPECIAL ASSISTANT TO THE PRESIDENT AND DIRECTO...</td>\n",
       "    </tr>\n",
       "    <tr>\n",
       "      <th>2</th>\n",
       "      <td>Amin, Stacy C.</td>\n",
       "      <td>Employee</td>\n",
       "      <td>$140,000.00</td>\n",
       "      <td>Per Annum</td>\n",
       "      <td>SPECIAL ASSISTANT TO THE PRESIDENT AND ASSOCIA...</td>\n",
       "    </tr>\n",
       "    <tr>\n",
       "      <th>3</th>\n",
       "      <td>Andersen, Whitney N.</td>\n",
       "      <td>Employee</td>\n",
       "      <td>$94,000.00</td>\n",
       "      <td>Per Annum</td>\n",
       "      <td>DEPUTY DIRECTOR OF OPERATIONS FOR THE WHITE HO...</td>\n",
       "    </tr>\n",
       "    <tr>\n",
       "      <th>4</th>\n",
       "      <td>Anderson, Alexander J.</td>\n",
       "      <td>Employee</td>\n",
       "      <td>$77,000.00</td>\n",
       "      <td>Per Annum</td>\n",
       "      <td>DIRECTOR OF DIGITAL ENGAGEMENT</td>\n",
       "    </tr>\n",
       "  </tbody>\n",
       "</table>\n",
       "</div>"
      ],
      "text/plain": [
       "                     NAME    STATUS        SALARY  PAY_BASIS  \\\n",
       "0    Alexander, Monica K.  Employee   $56,000.00   Per Annum   \n",
       "1   Ambrosini, Michael J.  Employee   $95,000.00   Per Annum   \n",
       "2          Amin, Stacy C.  Employee  $140,000.00   Per Annum   \n",
       "3    Andersen, Whitney N.  Employee   $94,000.00   Per Annum   \n",
       "4  Anderson, Alexander J.  Employee   $77,000.00   Per Annum   \n",
       "\n",
       "                                      POSITION_TITLE  \n",
       "0                                EXECUTIVE ASSISTANT  \n",
       "1  SPECIAL ASSISTANT TO THE PRESIDENT AND DIRECTO...  \n",
       "2  SPECIAL ASSISTANT TO THE PRESIDENT AND ASSOCIA...  \n",
       "3  DEPUTY DIRECTOR OF OPERATIONS FOR THE WHITE HO...  \n",
       "4                     DIRECTOR OF DIGITAL ENGAGEMENT  "
      ]
     },
     "execution_count": 99,
     "metadata": {},
     "output_type": "execute_result"
    }
   ],
   "source": [
    "# our dataset first 10 lines\n",
    "df.head()"
   ]
  },
  {
   "cell_type": "markdown",
   "id": "c76263e9",
   "metadata": {},
   "source": [
    "## Data Cleaning"
   ]
  },
  {
   "cell_type": "code",
   "execution_count": 100,
   "id": "4b38e0a8",
   "metadata": {},
   "outputs": [
    {
     "name": "stderr",
     "output_type": "stream",
     "text": [
      "C:\\Users\\utilisateur\\AppData\\Local\\Temp\\ipykernel_8644\\1742116035.py:2: FutureWarning: The default value of regex will change from True to False in a future version. In addition, single character regular expressions will *not* be treated as literal strings when regex=True.\n",
      "  df['SALARY'] = df['SALARY'].str.replace('$', '')\n"
     ]
    }
   ],
   "source": [
    "# Removing the '$' and comma ',' and converting into the column 'SALARY' 'float'\n",
    "df['SALARY'] = df['SALARY'].str.replace('$', '')\n",
    "df['SALARY'] = df['SALARY'].str.replace(',', '')\n",
    "df['SALARY'] = df['SALARY'].astype('float')"
   ]
  },
  {
   "cell_type": "code",
   "execution_count": 101,
   "id": "58d818a0",
   "metadata": {},
   "outputs": [],
   "source": [
    "# not necessary but useful, we set the name into title\n",
    "df.columns = df.columns.str.title()"
   ]
  },
  {
   "cell_type": "code",
   "execution_count": 102,
   "id": "d2c35d49",
   "metadata": {},
   "outputs": [
    {
     "data": {
      "text/html": [
       "<div>\n",
       "<style scoped>\n",
       "    .dataframe tbody tr th:only-of-type {\n",
       "        vertical-align: middle;\n",
       "    }\n",
       "\n",
       "    .dataframe tbody tr th {\n",
       "        vertical-align: top;\n",
       "    }\n",
       "\n",
       "    .dataframe thead th {\n",
       "        text-align: right;\n",
       "    }\n",
       "</style>\n",
       "<table border=\"1\" class=\"dataframe\">\n",
       "  <thead>\n",
       "    <tr style=\"text-align: right;\">\n",
       "      <th></th>\n",
       "      <th>Name</th>\n",
       "      <th>Status</th>\n",
       "      <th>Salary</th>\n",
       "      <th>Pay_Basis</th>\n",
       "      <th>Position_Title</th>\n",
       "    </tr>\n",
       "  </thead>\n",
       "  <tbody>\n",
       "    <tr>\n",
       "      <th>0</th>\n",
       "      <td>Alexander, Monica K.</td>\n",
       "      <td>Employee</td>\n",
       "      <td>56000.0</td>\n",
       "      <td>Per Annum</td>\n",
       "      <td>EXECUTIVE ASSISTANT</td>\n",
       "    </tr>\n",
       "    <tr>\n",
       "      <th>1</th>\n",
       "      <td>Ambrosini, Michael J.</td>\n",
       "      <td>Employee</td>\n",
       "      <td>95000.0</td>\n",
       "      <td>Per Annum</td>\n",
       "      <td>SPECIAL ASSISTANT TO THE PRESIDENT AND DIRECTO...</td>\n",
       "    </tr>\n",
       "    <tr>\n",
       "      <th>2</th>\n",
       "      <td>Amin, Stacy C.</td>\n",
       "      <td>Employee</td>\n",
       "      <td>140000.0</td>\n",
       "      <td>Per Annum</td>\n",
       "      <td>SPECIAL ASSISTANT TO THE PRESIDENT AND ASSOCIA...</td>\n",
       "    </tr>\n",
       "    <tr>\n",
       "      <th>3</th>\n",
       "      <td>Andersen, Whitney N.</td>\n",
       "      <td>Employee</td>\n",
       "      <td>94000.0</td>\n",
       "      <td>Per Annum</td>\n",
       "      <td>DEPUTY DIRECTOR OF OPERATIONS FOR THE WHITE HO...</td>\n",
       "    </tr>\n",
       "    <tr>\n",
       "      <th>4</th>\n",
       "      <td>Anderson, Alexander J.</td>\n",
       "      <td>Employee</td>\n",
       "      <td>77000.0</td>\n",
       "      <td>Per Annum</td>\n",
       "      <td>DIRECTOR OF DIGITAL ENGAGEMENT</td>\n",
       "    </tr>\n",
       "  </tbody>\n",
       "</table>\n",
       "</div>"
      ],
      "text/plain": [
       "                     Name    Status    Salary  Pay_Basis  \\\n",
       "0    Alexander, Monica K.  Employee   56000.0  Per Annum   \n",
       "1   Ambrosini, Michael J.  Employee   95000.0  Per Annum   \n",
       "2          Amin, Stacy C.  Employee  140000.0  Per Annum   \n",
       "3    Andersen, Whitney N.  Employee   94000.0  Per Annum   \n",
       "4  Anderson, Alexander J.  Employee   77000.0  Per Annum   \n",
       "\n",
       "                                      Position_Title  \n",
       "0                                EXECUTIVE ASSISTANT  \n",
       "1  SPECIAL ASSISTANT TO THE PRESIDENT AND DIRECTO...  \n",
       "2  SPECIAL ASSISTANT TO THE PRESIDENT AND ASSOCIA...  \n",
       "3  DEPUTY DIRECTOR OF OPERATIONS FOR THE WHITE HO...  \n",
       "4                     DIRECTOR OF DIGITAL ENGAGEMENT  "
      ]
     },
     "execution_count": 102,
     "metadata": {},
     "output_type": "execute_result"
    }
   ],
   "source": [
    "# now we see the changes\n",
    "df.head()"
   ]
  },
  {
   "cell_type": "markdown",
   "id": "ee4657af",
   "metadata": {},
   "source": [
    "## Data Training"
   ]
  },
  {
   "cell_type": "code",
   "execution_count": 103,
   "id": "44745288",
   "metadata": {},
   "outputs": [
    {
     "data": {
      "text/plain": [
       "Employee           358\n",
       "Detailee            18\n",
       "Employee             1\n",
       "Name: Status, dtype: int64"
      ]
     },
     "execution_count": 103,
     "metadata": {},
     "output_type": "execute_result"
    }
   ],
   "source": [
    "df['Status'].value_counts()"
   ]
  },
  {
   "cell_type": "code",
   "execution_count": 121,
   "id": "d7910882",
   "metadata": {},
   "outputs": [],
   "source": [
    "# trying to convert the categorical value into integer\n",
    "df['Status'] = df['Status'].replace('Employee', 1)\n",
    "df['Status'] = df['Status'].replace('Detailee', 2)\n",
    "df['Status'] = df['Status'].replace('Employee       ', 1)# there is only one like this"
   ]
  },
  {
   "cell_type": "code",
   "execution_count": 122,
   "id": "deb1ba0c",
   "metadata": {},
   "outputs": [
    {
     "data": {
      "text/plain": [
       "0      1\n",
       "1      1\n",
       "2      1\n",
       "3      1\n",
       "4      1\n",
       "      ..\n",
       "372    1\n",
       "373    1\n",
       "374    1\n",
       "375    1\n",
       "376    1\n",
       "Name: Status, Length: 377, dtype: int64"
      ]
     },
     "execution_count": 122,
     "metadata": {},
     "output_type": "execute_result"
    }
   ],
   "source": [
    "df['Status']"
   ]
  },
  {
   "cell_type": "code",
   "execution_count": 123,
   "id": "341d66dc",
   "metadata": {},
   "outputs": [
    {
     "data": {
      "text/plain": [
       "1    359\n",
       "2     18\n",
       "Name: Status, dtype: int64"
      ]
     },
     "execution_count": 123,
     "metadata": {},
     "output_type": "execute_result"
    }
   ],
   "source": [
    "df['Status'].value_counts()"
   ]
  },
  {
   "cell_type": "code",
   "execution_count": 130,
   "id": "0ef1a0e2",
   "metadata": {},
   "outputs": [
    {
     "name": "stdout",
     "output_type": "stream",
     "text": [
      "2\n",
      "2\n",
      "2\n",
      "2\n",
      "2\n",
      "2\n",
      "2\n",
      "2\n",
      "2\n",
      "2\n",
      "2\n",
      "2\n",
      "2\n",
      "2\n",
      "2\n",
      "2\n",
      "2\n",
      "2\n"
     ]
    }
   ],
   "source": [
    "# this function is to find which value was categorical\n",
    "for v in df['Status']:\n",
    "    if v !=  1:\n",
    "        index = df['Status'].index.get_loc(v)\n",
    "        print(index)"
   ]
  },
  {
   "cell_type": "code",
   "execution_count": 127,
   "id": "885215cc",
   "metadata": {},
   "outputs": [
    {
     "data": {
      "text/plain": [
       "0      Per Annum\n",
       "1      Per Annum\n",
       "2      Per Annum\n",
       "3      Per Annum\n",
       "4      Per Annum\n",
       "         ...    \n",
       "372    Per Annum\n",
       "373    Per Annum\n",
       "374    Per Annum\n",
       "375    Per Annum\n",
       "376    Per Annum\n",
       "Name: Pay_Basis, Length: 377, dtype: object"
      ]
     },
     "execution_count": 127,
     "metadata": {},
     "output_type": "execute_result"
    }
   ],
   "source": [
    "df['Pay_Basis'].astype(str)"
   ]
  },
  {
   "cell_type": "code",
   "execution_count": 88,
   "id": "305f6bbd",
   "metadata": {},
   "outputs": [
    {
     "name": "stdout",
     "output_type": "stream",
     "text": [
      "1\n"
     ]
    }
   ],
   "source": []
  },
  {
   "cell_type": "code",
   "execution_count": null,
   "id": "046bf6d3",
   "metadata": {},
   "outputs": [],
   "source": []
  }
 ],
 "metadata": {
  "kernelspec": {
   "display_name": "base",
   "language": "python",
   "name": "python3"
  },
  "language_info": {
   "codemirror_mode": {
    "name": "ipython",
    "version": 3
   },
   "file_extension": ".py",
   "mimetype": "text/x-python",
   "name": "python",
   "nbconvert_exporter": "python",
   "pygments_lexer": "ipython3",
   "version": "3.9.12"
  },
  "vscode": {
   "interpreter": {
    "hash": "cce956dd8b59511f520788cd9362dddc117670ac5ef39c9ede8ba85a43b854a0"
   }
  }
 },
 "nbformat": 4,
 "nbformat_minor": 5
}
